{
 "cells": [
  {
   "cell_type": "code",
   "execution_count": 1,
   "id": "2a837507",
   "metadata": {},
   "outputs": [
    {
     "name": "stdout",
     "output_type": "stream",
     "text": [
      "/Users/mitoura/Desktop/Repositories/rag--projects\n"
     ]
    }
   ],
   "source": [
    "%cd .."
   ]
  },
  {
   "cell_type": "code",
   "execution_count": 2,
   "id": "0b635ee4",
   "metadata": {},
   "outputs": [
    {
     "name": "stderr",
     "output_type": "stream",
     "text": [
      "2025-08-17 10:52:28 - src.utils.settings - INFO - .env founded in: /Users/mitoura/Desktop/Repositories/rag--projects/.env\n",
      "2025-08-17 10:52:29 - src.utils.settings - INFO - ================================\n",
      "2025-08-17 10:52:29 - src.utils.settings - INFO - azure_openai_api_key: OK\n",
      "2025-08-17 10:52:29 - src.utils.settings - INFO - azure_openai_endpoint: OK\n",
      "2025-08-17 10:52:29 - src.utils.settings - INFO - llm_deployment_model: OK\n",
      "2025-08-17 10:52:29 - src.utils.settings - INFO - embedding_deployment_model: OK\n",
      "2025-08-17 10:52:29 - src.utils.settings - INFO - llm_api_version: OK\n",
      "2025-08-17 10:52:29 - src.utils.settings - INFO - embedding_api_version: OK\n",
      "2025-08-17 10:52:29 - src.utils.settings - INFO - groq_api_key: OK\n",
      "2025-08-17 10:52:29 - src.utils.settings - INFO - ================================\n"
     ]
    }
   ],
   "source": [
    "from src.services import AzureOpenaiService\n",
    "from src.utils import Settings\n",
    "\n",
    "sets = Settings()\n",
    "azure_openai_service = AzureOpenaiService(sets)\n",
    "llm = azure_openai_service.get_llm()\n",
    "embeddings = azure_openai_service.get_embeddings()"
   ]
  },
  {
   "cell_type": "code",
   "execution_count": 3,
   "id": "93552517",
   "metadata": {},
   "outputs": [
    {
     "name": "stdout",
     "output_type": "stream",
     "text": [
      "\n",
      "\u001b[1m[\u001b[0m\u001b[34;49mnotice\u001b[0m\u001b[1;39;49m]\u001b[0m\u001b[39;49m A new release of pip available: \u001b[0m\u001b[31;49m22.3\u001b[0m\u001b[39;49m -> \u001b[0m\u001b[32;49m25.2\u001b[0m\n",
      "\u001b[1m[\u001b[0m\u001b[34;49mnotice\u001b[0m\u001b[1;39;49m]\u001b[0m\u001b[39;49m To update, run: \u001b[0m\u001b[32;49mpip install --upgrade pip\u001b[0m\n",
      "Note: you may need to restart the kernel to use updated packages.\n"
     ]
    }
   ],
   "source": [
    "# install faiss cpu\n",
    "%pip install -qU faiss-cpu"
   ]
  },
  {
   "cell_type": "code",
   "execution_count": 4,
   "id": "d301ab04",
   "metadata": {},
   "outputs": [],
   "source": [
    "import numpy as np\n",
    "\n",
    "corpus = [\n",
    "    \"O gato está dormindo no sofá.\",\n",
    "    \"O cachorro está latindo no quintal.\",\n",
    "    \"A Lua gira ao redor da Terra.\",\n",
    "    \"Estou aprendendo Python para ciência de dados.\",\n",
    "    \"O céu está limpo hoje.\",\n",
    "    \"Machine learning é uma área fascinante.\",\n",
    "    \"Hoje é um bom dia para correr no parque.\"\n",
    "] # examples texts in portuguese"
   ]
  },
  {
   "cell_type": "code",
   "execution_count": 5,
   "id": "1b8596ae",
   "metadata": {},
   "outputs": [],
   "source": [
    "corpus_embeddings = np.array(embeddings.embed_documents(corpus)).astype(\"float32\")"
   ]
  },
  {
   "cell_type": "code",
   "execution_count": 6,
   "id": "dffa98cb",
   "metadata": {},
   "outputs": [],
   "source": [
    "# example creating a FAISS index\n",
    "\n",
    "import faiss\n",
    "\n",
    "dimension = corpus_embeddings.shape[1]\n",
    "index = faiss.IndexFlatL2(dimension)\n",
    "index.add(corpus_embeddings) # add corpus embeddings to the index"
   ]
  },
  {
   "cell_type": "code",
   "execution_count": 7,
   "id": "43145ced",
   "metadata": {},
   "outputs": [],
   "source": [
    "# search for similar texts\n",
    "\n",
    "query = \"Estou aprendendo inteligência artificial\"\n",
    "query_embedding = embeddings.embed_query(query)\n",
    "query_embedding = np.array([query_embedding]).astype(\"float32\")\n",
    "k = 3  # top-k\n",
    "distances, indices = index.search(query_embedding, k)"
   ]
  },
  {
   "cell_type": "code",
   "execution_count": 8,
   "id": "5a11d735",
   "metadata": {},
   "outputs": [
    {
     "name": "stdout",
     "output_type": "stream",
     "text": [
      "1. Estou aprendendo Python para ciência de dados. (distância: 0.1834)\n",
      "2. Machine learning é uma área fascinante. (distância: 0.2288)\n",
      "3. O gato está dormindo no sofá. (distância: 0.4105)\n"
     ]
    }
   ],
   "source": [
    "for i in range(k):\n",
    "    print(f\"{i+1}. {corpus[indices[0][i]]} (distância: {distances[0][i]:.4f})\")"
   ]
  },
  {
   "cell_type": "code",
   "execution_count": 9,
   "id": "394a7327",
   "metadata": {},
   "outputs": [],
   "source": [
    "# example to generate a local vdb with faiss\n",
    "\n",
    "from langchain.docstore.document import Document\n",
    "from langchain_community.vectorstores import FAISS\n",
    "\n",
    "\n",
    "texts = [\n",
    "    \"O gato está dormindo no sofá.\",\n",
    "    \"O cachorro está latindo no quintal.\",\n",
    "    \"A Lua gira ao redor da Terra.\",\n",
    "    \"Estou aprendendo Python para ciência de dados.\",\n",
    "    \"O céu está limpo hoje.\",\n",
    "    \"Machine learning é uma área fascinante.\",\n",
    "    \"Hoje é um bom dia para correr no parque.\"\n",
    "] # examples texts in portuguese\n",
    "\n",
    "docs = [Document(page_content=t) for t in texts]\n",
    "\n",
    "# crate a FAISS index in memory\n",
    "vdb = FAISS.from_documents(docs, embeddings)\n",
    "vdb.save_local(\"faiss_index\")"
   ]
  },
  {
   "cell_type": "code",
   "execution_count": 10,
   "id": "53dea856",
   "metadata": {},
   "outputs": [],
   "source": [
    "# loag vdb from local storage\n",
    "vdb = FAISS.load_local(\"faiss_index\", embeddings, allow_dangerous_deserialization=True)"
   ]
  },
  {
   "cell_type": "code",
   "execution_count": 11,
   "id": "3a6735f1",
   "metadata": {},
   "outputs": [
    {
     "name": "stdout",
     "output_type": "stream",
     "text": [
      "1. Estou aprendendo Python para ciência de dados.\n",
      "2. Machine learning é uma área fascinante.\n",
      "3. O gato está dormindo no sofá.\n"
     ]
    }
   ],
   "source": [
    "# search\n",
    "query = \"Estou aprendendo inteligência artificial\"\n",
    "resultados = vdb.similarity_search(query, k=3)\n",
    "\n",
    "for i, r in enumerate(resultados):\n",
    "    print(f\"{i+1}. {r.page_content}\")"
   ]
  },
  {
   "cell_type": "markdown",
   "id": "3b634708",
   "metadata": {},
   "source": [
    "### Using FAISS Service\n",
    "\n",
    "```\n",
    "rag--projects\n",
    "├─ projects\n",
    "│  └─ rag_faiss\n",
    "│       └─ rag_service.py\n",
    "```"
   ]
  },
  {
   "cell_type": "code",
   "execution_count": null,
   "id": "7ed1999e",
   "metadata": {},
   "outputs": [
    {
     "name": "stderr",
     "output_type": "stream",
     "text": [
      "2025-08-17 10:52:35 - projects.rag_faiss.faiss - INFO - FaissService initialized with chunk_size=1200, chunk_overlap=500\n"
     ]
    }
   ],
   "source": [
    "from src.services.faiss import FaissService\n",
    "\n",
    "# 0. load faiss services\n",
    "\n",
    "faiss_service = FaissService(embeddings = embeddings,\n",
    "                             chunk_size = 1200,\n",
    "                             chunk_overlap = 500)"
   ]
  },
  {
   "cell_type": "code",
   "execution_count": null,
   "id": "ab2d06a5",
   "metadata": {},
   "outputs": [
    {
     "name": "stderr",
     "output_type": "stream",
     "text": [
      "2025-08-17 10:52:37 - projects.rag_faiss.extractors - INFO - Processing directory: documents\n",
      "2025-08-17 10:52:37 - projects.rag_faiss.extractors - INFO - Found 1 PDF files\n",
      "2025-08-17 10:52:37 - projects.rag_faiss.extractors - INFO - Extraction completed: 1 documents processed\n"
     ]
    }
   ],
   "source": [
    "# 1. Extract text from documents\n",
    "\n",
    "from src.utils.extractors import DocumentExtractor\n",
    "\n",
    "extractor = DocumentExtractor()\n",
    "docs_raw = extractor.extract_documents(path=\"documents\") # add here your folder path"
   ]
  },
  {
   "cell_type": "code",
   "execution_count": 5,
   "id": "0953e921",
   "metadata": {},
   "outputs": [],
   "source": [
    "from langchain.docstore.document import Document\n",
    "\n",
    "# 2. converting to Document format\n",
    "documents = [\n",
    "    Document(\n",
    "        page_content=doc[\"texts\"],\n",
    "        metadata={\"source\": doc[\"document\"]}\n",
    "    )\n",
    "    for doc in docs_raw.values()\n",
    "]"
   ]
  },
  {
   "cell_type": "code",
   "execution_count": 6,
   "id": "db076afa",
   "metadata": {},
   "outputs": [
    {
     "name": "stderr",
     "output_type": "stream",
     "text": [
      "2025-08-17 10:52:43 - projects.rag_faiss.faiss - INFO - Starting local database creation at: faiss_index/my_index\n",
      "2025-08-17 10:52:46 - projects.rag_faiss.faiss - INFO - Database created with 93 chunks and saved at: faiss_index/my_index\n"
     ]
    }
   ],
   "source": [
    "# 3. creating a local vector database\n",
    "vdb = faiss_service.create_local_database(\n",
    "    documents=documents,\n",
    "    index_path=\"faiss_index/my_index\"\n",
    ")"
   ]
  },
  {
   "cell_type": "code",
   "execution_count": 7,
   "id": "c02270ca",
   "metadata": {},
   "outputs": [
    {
     "name": "stderr",
     "output_type": "stream",
     "text": [
      "2025-08-17 10:53:04 - projects.rag_faiss.faiss - INFO - Starting temporary database creation\n",
      "2025-08-17 10:53:06 - projects.rag_faiss.faiss - INFO - Temporary database created with 93 chunks. ID: 1b0e53dc-2408-4e13-b68d-3f9c4fe89f15\n"
     ]
    }
   ],
   "source": [
    "# temporary\n",
    "\n",
    "vdb = faiss_service.create_temporary_database(\n",
    "    documents=documents\n",
    ")"
   ]
  },
  {
   "cell_type": "code",
   "execution_count": 19,
   "id": "68874edf",
   "metadata": {},
   "outputs": [
    {
     "name": "stderr",
     "output_type": "stream",
     "text": [
      "2025-08-16 23:12:15 - projects.rag_faiss.rag_service - INFO - Search completed: 3 results\n"
     ]
    },
    {
     "name": "stdout",
     "output_type": "stream",
     "text": [
      "Eng 2025, 6, x FOR PEER REVIEW \n",
      "2 of 23 \n",
      " \n",
      " \n",
      "valuable insights into process behavior [2]. This ability to predict process performance \n",
      "42\n",
      " \n",
      "prior to physical construction or operational changes drastically reduces costs, accelerates \n",
      "43\n",
      " \n",
      "innovation, and mitigates associated risks [3,4]. \n",
      "44\n",
      " \n",
      "In this context, modeling thermodynamic equilibrium is crucial, and the develop-\n",
      "45\n",
      " \n",
      "ment of accessible and accurate computational tools is a field in constant development. \n",
      "46\n",
      " \n",
      "The effectiveness of this approach depends directly on the availability and capability of \n",
      "47\n",
      " \n",
      "the software used, which has become a diverse ecosystem of commercial and open-source \n",
      "48\n",
      " \n",
      "solutions.  \n",
      "49\n",
      " \n",
      " \n",
      "50\n",
      " \n",
      "Current status of thermodynamic equilibrium software \n",
      "51\n",
      " \n",
      "The landscape of thermodynamic equilibrium software has evolved significantly \n",
      "52\n",
      " \n",
      "over the past decades, with various commercial and open-source solutions becoming avail-\n",
      "53\n",
      " \n",
      "able to researchers and industry professionals. Traditional commercial software packages \n",
      "54\n",
      " \n",
      "such as Aspen Plus, Aspen Hysys, ChemCAD, and ProSim have dominated the market due \n",
      "55\n",
      " \n",
      "to their comprehensive thermodynamic property databases, robust calculation engines, \n",
      "56\n",
      "Eng 2025, 6, x FOR PEER REVIEW \n",
      "4 of 23 \n",
      " \n",
      " \n",
      "experimental and simulated data from various literature sources. Through this compre-\n",
      "141\n",
      " \n",
      "hensive assessment, we aim to establish tes-thermo as a highly predictive tool for reactive \n",
      "142\n",
      " \n",
      "systems under combined chemical and phase equilibrium conditions, providing a solid \n",
      "143\n",
      " \n",
      "foundation for its application in modeling, analysis, and optimization of such processes. \n",
      "144\n",
      " \n",
      "2. Methodology \n",
      "145\n",
      " \n",
      "This section aims to describe the methodology used for the development of the tes-\n",
      "146\n",
      " \n",
      "thermo library, the main objective of this work. The following sections provide details on \n",
      "147\n",
      " \n",
      "the adopted thermodynamic considerations, the optimization methodology employed, \n",
      "148\n",
      " \n",
      "and the mathematical framework used to solve equilibrium problems. Finally, the pack-\n",
      "149\n",
      " \n",
      "aging of tes-thermo as a Python library is presented. \n",
      "150\n",
      " \n",
      "2.1. Thermodynamic Approach for Process Evaluation \n",
      "151\n",
      " \n",
      "2.1.1. Calculation of equilibrium compositions in an isothermal reactor: problem repre-\n",
      "152\n",
      " \n",
      "sented as Gibbs energy minimization \n",
      "153\n",
      " \n",
      " \n",
      "154\n",
      " \n",
      "The combined chemical and phase equilibrium problem, formulated as the minimi-\n",
      "155\n",
      "Eng 2025, 6, x \n",
      "https://doi.org/10.3390/xxxxx \n",
      "Article \n",
      "1\n",
      " \n",
      "A Python-Based Thermodynamic Equilibrium Library for Gibbs \n",
      "2\n",
      " \n",
      "Energy Minimization: A Case Study on Supercritical Water Gas-\n",
      "3\n",
      " \n",
      "ification of Ethanol and Methanol \n",
      "4\n",
      " \n",
      "Julles Mitoura dos Santos Junior1, Antonio Carlos Daltro de Freitas 2 and Adriano Pinto Mariano1,* \n",
      "5\n",
      " \n",
      "1 Universidade Estadual de Campinas (UNICAMP), Faculdade de Engenharia Química (FEQ), Av. Albert \n",
      "6\n",
      " \n",
      "Einstein 500, Campinas 13083-852, SP, Brasil. \n",
      "7\n",
      " \n",
      "2  Departamento de Engenharia Química, Centro de Ciências Exatas e Tecnologia, Universidade Federal do \n",
      "8\n",
      " \n",
      "Maranhão (UFMA), Av. dos Portugueses, 1966, Bacanga, São Luís 65080-805, MA, Brasil. \n",
      "9\n",
      " \n",
      " \n",
      "10\n",
      " \n",
      "* Correspondence: adpm@unicamp.br \n",
      "11\n",
      " \n",
      "Abstract \n",
      "12\n",
      " \n",
      "This work aims to present tes-thermo, a Python library developed to solve thermodynamic \n",
      "13\n",
      " \n",
      "equilibrium problems using the Gibbs energy minimization approach. The library is a \n",
      "14\n",
      " \n",
      "variant of TeS v.3, a standalone executable developed for the same purpose. The tool for-\n",
      "15\n",
      " \n",
      "mulates the chemical equilibrium problem of combined phases as a nonlinear program-\n",
      "16\n"
     ]
    }
   ],
   "source": [
    "query = \"What is thermodynamic equilibrium?\"\n",
    "results = faiss_service.similarity_search(vdb, query, k=3)\n",
    "\n",
    "for r in results:\n",
    "    print(r.page_content)"
   ]
  },
  {
   "cell_type": "code",
   "execution_count": 20,
   "id": "2863d17b",
   "metadata": {},
   "outputs": [
    {
     "name": "stdout",
     "output_type": "stream",
     "text": [
      "{'type': 'Local/Loaded', 'id': 'N/A', 'total_vectors': 93, 'dimension': 1536, 'embedding_model': 'AzureOpenAIEmbeddings'}\n"
     ]
    }
   ],
   "source": [
    "# 6. to verify vdb info\n",
    "info = faiss_service.get_database_info(vdb)\n",
    "print(info)"
   ]
  },
  {
   "cell_type": "code",
   "execution_count": 24,
   "id": "d85d9920",
   "metadata": {},
   "outputs": [
    {
     "name": "stderr",
     "output_type": "stream",
     "text": [
      "2025-08-16 23:15:46 - projects.rag_faiss.rag_service - INFO - Search completed: 3 results\n"
     ]
    }
   ],
   "source": [
    "# 7. using the context from vdb to generate responses\n",
    "query = \"What is tes-thermo?\"\n",
    "results = faiss_service.similarity_search(vdb, query, k=3)\n",
    "prompt = f\" This is the user question: {query}. Use this as context to generate a response: {results}\"\n",
    "res = llm.invoke(prompt).content"
   ]
  },
  {
   "cell_type": "code",
   "execution_count": 25,
   "id": "e9af3851",
   "metadata": {},
   "outputs": [
    {
     "name": "stdout",
     "output_type": "stream",
     "text": [
      "Tes-thermo is an open-source Python library designed for modeling and analyzing reactive chemical systems under combined chemical and phase equilibrium conditions. It uses a thermodynamic approach based on Gibbs energy minimization to calculate equilibrium compositions in isothermal reactors. The library supports both ideal and non-ideal gas phase behavior, employing methods such as the Virial equation (truncated at the second term) and various equations of state, including the Peng–Robinson equation, for non-ideality calculations. Tes-thermo also allows the use of different polynomial models for heat capacity calculations.\n",
      "\n",
      "Developed to provide a highly predictive and robust tool, tes-thermo facilitates the simulation, analysis, and optimization of complex reactive processes. It has been applied successfully to processes like supercritical water gasification (SCWG) of methanol and ethanol, demonstrating its reliability in thermodynamic equilibrium studies. The library is available on PyPI (Python Package Index) starting from version 0.1.0, and comes with documentation and examples to help users implement it in their research or engineering projects.\n"
     ]
    }
   ],
   "source": [
    "print(res)"
   ]
  }
 ],
 "metadata": {
  "kernelspec": {
   "display_name": ".venv",
   "language": "python",
   "name": "python3"
  },
  "language_info": {
   "codemirror_mode": {
    "name": "ipython",
    "version": 3
   },
   "file_extension": ".py",
   "mimetype": "text/x-python",
   "name": "python",
   "nbconvert_exporter": "python",
   "pygments_lexer": "ipython3",
   "version": "3.11.0"
  }
 },
 "nbformat": 4,
 "nbformat_minor": 5
}
