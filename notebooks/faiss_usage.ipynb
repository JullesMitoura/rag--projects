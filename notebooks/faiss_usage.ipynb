{
 "cells": [
  {
   "cell_type": "code",
   "execution_count": 1,
   "id": "2a837507",
   "metadata": {},
   "outputs": [
    {
     "name": "stdout",
     "output_type": "stream",
     "text": [
      "/Users/mitoura/Desktop/Repositories/rag--projects\n"
     ]
    }
   ],
   "source": [
    "%cd .."
   ]
  },
  {
   "cell_type": "code",
   "execution_count": 2,
   "id": "0b635ee4",
   "metadata": {},
   "outputs": [],
   "source": [
    "from src.services import AzureOpenaiService\n",
    "from src.utils import Settings\n",
    "\n",
    "sets = Settings()\n",
    "azure_openai_service = AzureOpenaiService(sets)\n",
    "llm = azure_openai_service.get_llm()\n",
    "embeddings = azure_openai_service.get_embeddings()"
   ]
  },
  {
   "cell_type": "code",
   "execution_count": 3,
   "id": "93552517",
   "metadata": {},
   "outputs": [
    {
     "name": "stdout",
     "output_type": "stream",
     "text": [
      "\n",
      "\u001b[1m[\u001b[0m\u001b[34;49mnotice\u001b[0m\u001b[1;39;49m]\u001b[0m\u001b[39;49m A new release of pip available: \u001b[0m\u001b[31;49m22.3\u001b[0m\u001b[39;49m -> \u001b[0m\u001b[32;49m25.2\u001b[0m\n",
      "\u001b[1m[\u001b[0m\u001b[34;49mnotice\u001b[0m\u001b[1;39;49m]\u001b[0m\u001b[39;49m To update, run: \u001b[0m\u001b[32;49mpip install --upgrade pip\u001b[0m\n",
      "Note: you may need to restart the kernel to use updated packages.\n"
     ]
    }
   ],
   "source": [
    "# install faiss cpu\n",
    "%pip install -qU faiss-cpu"
   ]
  },
  {
   "cell_type": "code",
   "execution_count": 4,
   "id": "d301ab04",
   "metadata": {},
   "outputs": [],
   "source": [
    "import numpy as np\n",
    "\n",
    "corpus = [\n",
    "    \"O gato está dormindo no sofá.\",\n",
    "    \"O cachorro está latindo no quintal.\",\n",
    "    \"A Lua gira ao redor da Terra.\",\n",
    "    \"Estou aprendendo Python para ciência de dados.\",\n",
    "    \"O céu está limpo hoje.\",\n",
    "    \"Machine learning é uma área fascinante.\",\n",
    "    \"Hoje é um bom dia para correr no parque.\"\n",
    "] # examples texts in portuguese"
   ]
  },
  {
   "cell_type": "code",
   "execution_count": 5,
   "id": "1b8596ae",
   "metadata": {},
   "outputs": [],
   "source": [
    "corpus_embeddings = np.array(embeddings.embed_documents(corpus)).astype(\"float32\")"
   ]
  },
  {
   "cell_type": "code",
   "execution_count": 6,
   "id": "dffa98cb",
   "metadata": {},
   "outputs": [],
   "source": [
    "# example creating a FAISS index\n",
    "\n",
    "import faiss\n",
    "\n",
    "dimension = corpus_embeddings.shape[1]\n",
    "index = faiss.IndexFlatL2(dimension)\n",
    "index.add(corpus_embeddings) # add corpus embeddings to the index"
   ]
  },
  {
   "cell_type": "code",
   "execution_count": 7,
   "id": "43145ced",
   "metadata": {},
   "outputs": [],
   "source": [
    "# search for similar texts\n",
    "\n",
    "query = \"Estou aprendendo inteligência artificial\"\n",
    "query_embedding = embeddings.embed_query(query)\n",
    "query_embedding = np.array([query_embedding]).astype(\"float32\")\n",
    "k = 3  # top-k\n",
    "distances, indices = index.search(query_embedding, k)"
   ]
  },
  {
   "cell_type": "code",
   "execution_count": 8,
   "id": "5a11d735",
   "metadata": {},
   "outputs": [
    {
     "name": "stdout",
     "output_type": "stream",
     "text": [
      "1. Estou aprendendo Python para ciência de dados. (distância: 0.1834)\n",
      "2. Machine learning é uma área fascinante. (distância: 0.2288)\n",
      "3. O gato está dormindo no sofá. (distância: 0.4105)\n"
     ]
    }
   ],
   "source": [
    "for i in range(k):\n",
    "    print(f\"{i+1}. {corpus[indices[0][i]]} (distância: {distances[0][i]:.4f})\")"
   ]
  },
  {
   "cell_type": "code",
   "execution_count": 9,
   "id": "394a7327",
   "metadata": {},
   "outputs": [],
   "source": [
    "# example to generate a local vdb with faiss\n",
    "\n",
    "from langchain.docstore.document import Document\n",
    "from langchain_community.vectorstores import FAISS\n",
    "\n",
    "\n",
    "texts = [\n",
    "    \"O gato está dormindo no sofá.\",\n",
    "    \"O cachorro está latindo no quintal.\",\n",
    "    \"A Lua gira ao redor da Terra.\",\n",
    "    \"Estou aprendendo Python para ciência de dados.\",\n",
    "    \"O céu está limpo hoje.\",\n",
    "    \"Machine learning é uma área fascinante.\",\n",
    "    \"Hoje é um bom dia para correr no parque.\"\n",
    "] # examples texts in portuguese\n",
    "\n",
    "docs = [Document(page_content=t) for t in texts]\n",
    "\n",
    "# crate a FAISS index in memory\n",
    "vdb = FAISS.from_documents(docs, embeddings)\n",
    "vdb.save_local(\"faiss_index\")"
   ]
  },
  {
   "cell_type": "code",
   "execution_count": 10,
   "id": "53dea856",
   "metadata": {},
   "outputs": [],
   "source": [
    "# loag vdb from local storage\n",
    "vdb = FAISS.load_local(\"faiss_index\", embeddings, allow_dangerous_deserialization=True)"
   ]
  },
  {
   "cell_type": "code",
   "execution_count": 11,
   "id": "3a6735f1",
   "metadata": {},
   "outputs": [
    {
     "name": "stdout",
     "output_type": "stream",
     "text": [
      "1. Estou aprendendo Python para ciência de dados.\n",
      "2. Machine learning é uma área fascinante.\n",
      "3. O gato está dormindo no sofá.\n"
     ]
    }
   ],
   "source": [
    "# search\n",
    "query = \"Estou aprendendo inteligência artificial\"\n",
    "resultados = vdb.similarity_search(query, k=3)\n",
    "\n",
    "for i, r in enumerate(resultados):\n",
    "    print(f\"{i+1}. {r.page_content}\")"
   ]
  }
 ],
 "metadata": {
  "kernelspec": {
   "display_name": ".venv",
   "language": "python",
   "name": "python3"
  },
  "language_info": {
   "codemirror_mode": {
    "name": "ipython",
    "version": 3
   },
   "file_extension": ".py",
   "mimetype": "text/x-python",
   "name": "python",
   "nbconvert_exporter": "python",
   "pygments_lexer": "ipython3",
   "version": "3.11.0"
  }
 },
 "nbformat": 4,
 "nbformat_minor": 5
}
