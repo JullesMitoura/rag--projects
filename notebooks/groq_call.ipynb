{
 "cells": [
  {
   "cell_type": "code",
   "execution_count": 1,
   "id": "95cc2d07",
   "metadata": {},
   "outputs": [
    {
     "name": "stdout",
     "output_type": "stream",
     "text": [
      "/Users/mitoura/Desktop/Repositories/rag--projects\n"
     ]
    }
   ],
   "source": [
    "%cd .."
   ]
  },
  {
   "cell_type": "code",
   "execution_count": 2,
   "id": "10fc4bab",
   "metadata": {},
   "outputs": [],
   "source": [
    "from src.services import GroqCloudService\n",
    "from src.utils import Settings\n",
    "\n",
    "sets = Settings()\n",
    "groq_cloud_service = GroqCloudService(sets = sets,\n",
    "                                      llm_model = \"deepseek-r1-distill-llama-70b\")\n",
    "llm = groq_cloud_service.get_llm()"
   ]
  },
  {
   "cell_type": "code",
   "execution_count": 4,
   "id": "1d63b51d",
   "metadata": {},
   "outputs": [
    {
     "data": {
      "text/plain": [
       "'Hello! How can I assist you today? 😊'"
      ]
     },
     "execution_count": 4,
     "metadata": {},
     "output_type": "execute_result"
    }
   ],
   "source": [
    "llm.invoke(\"Hi.\").content"
   ]
  }
 ],
 "metadata": {
  "kernelspec": {
   "display_name": ".venv",
   "language": "python",
   "name": "python3"
  },
  "language_info": {
   "codemirror_mode": {
    "name": "ipython",
    "version": 3
   },
   "file_extension": ".py",
   "mimetype": "text/x-python",
   "name": "python",
   "nbconvert_exporter": "python",
   "pygments_lexer": "ipython3",
   "version": "3.11.0"
  }
 },
 "nbformat": 4,
 "nbformat_minor": 5
}
